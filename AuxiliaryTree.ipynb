{
 "cells": [
  {
   "cell_type": "code",
   "execution_count": 13,
   "id": "7e6c4eec",
   "metadata": {},
   "outputs": [],
   "source": [
    "from treelib import Node, Tree"
   ]
  },
  {
   "cell_type": "code",
   "execution_count": 27,
   "id": "74b1eb35",
   "metadata": {
    "scrolled": false
   },
   "outputs": [
    {
     "name": "stdout",
     "output_type": "stream",
     "text": [
      "0\n",
      "├── 4\n",
      "└── 8\n",
      "    ├── 5\n",
      "    └── 7\n",
      "        ├── 1\n",
      "        ├── 3\n",
      "        │   └── 2\n",
      "        └── 6\n",
      "\n"
     ]
    }
   ],
   "source": [
    "auxiliaryTree([1,2,3])"
   ]
  },
  {
   "cell_type": "code",
   "execution_count": 26,
   "id": "7d8fed2f",
   "metadata": {},
   "outputs": [],
   "source": [
    "def auxiliaryTree(pf):\n",
    "    pf_copy = pf.copy()\n",
    "    \n",
    "    #outcomeInv = [2,3,7,4,1,5,6,8]\n",
    "    outcomeInv = [6, 2, 3, 1, 7, 5, 8, 4]\n",
    "    \n",
    "    li_copy = outcomeInv.copy()\n",
    "    \n",
    "    tree = Tree()\n",
    "    \n",
    "    treeDict = {}\n",
    "    \n",
    "    #Create dictionary of trees with root node of corresponding outcomeInv\n",
    "    for i in li_copy:\n",
    "        newTree = Tree()\n",
    "        newTree.create_node(i, i)\n",
    "        treeDict[i] = newTree\n",
    "    \n",
    "    #Create tree with root node 0\n",
    "    newTree = Tree()\n",
    "    newTree.create_node(0, 0)\n",
    "    treeDict[0] = newTree\n",
    "    \n",
    "    \n",
    "    #Compare each element of list\n",
    "    n=0\n",
    "    for i in li_copy:\n",
    "        flag = 0\n",
    "        for j in range(n,len(li_copy)):\n",
    "            if i == li_copy[j] and i == max(li_copy):\n",
    "                flag = 0\n",
    "            elif i == li_copy[j] and li_copy.index(i) == len(li_copy)-1:\n",
    "                flag = 0\n",
    "            elif i == li_copy[j]:\n",
    "                flag = 0\n",
    "                continue\n",
    "            elif i<li_copy[j]:\n",
    "                #Paste tree with corresponding \"parent tree\"\n",
    "                treeDict[li_copy[j]].paste(li_copy[j], treeDict[i])\n",
    "                n+=1\n",
    "                flag = 1\n",
    "            elif i>li_copy[j]:\n",
    "                flag = 0\n",
    "                continue\n",
    "                \n",
    "            if flag == 1:\n",
    "                break\n",
    "            elif flag == 0:\n",
    "                #Attach entire tree to main tree with root 0\n",
    "                treeDict[0].paste(0, treeDict[i])\n",
    "                n+=1\n",
    "                \n",
    "    print(treeDict[0])"
   ]
  }
 ],
 "metadata": {
  "kernelspec": {
   "display_name": "Python 3 (ipykernel)",
   "language": "python",
   "name": "python3"
  },
  "language_info": {
   "codemirror_mode": {
    "name": "ipython",
    "version": 3
   },
   "file_extension": ".py",
   "mimetype": "text/x-python",
   "name": "python",
   "nbconvert_exporter": "python",
   "pygments_lexer": "ipython3",
   "version": "3.9.7"
  }
 },
 "nbformat": 4,
 "nbformat_minor": 5
}
