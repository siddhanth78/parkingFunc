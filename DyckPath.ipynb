{
 "cells": [
  {
   "cell_type": "code",
   "execution_count": 28,
   "id": "24b8e99f",
   "metadata": {},
   "outputs": [],
   "source": [
    "import pandas as pd\n",
    "import numpy as np\n",
    "import matplotlib.pyplot as plt"
   ]
  },
  {
   "cell_type": "code",
   "execution_count": 91,
   "id": "4b3a47fc",
   "metadata": {
    "scrolled": true
   },
   "outputs": [
    {
     "data": {
      "image/png": "[encoded data removed]",
      "text/plain": [
       "<Figure size 432x288 with 1 Axes>"
      ]
     },
     "metadata": {
      "needs_background": "light"
     },
     "output_type": "display_data"
    }
   ],
   "source": [
    "pf = None\n",
    "graph, map_ = dyckPath(pf)\n",
    "\n",
    "map_len = {}\n",
    "pref = {}\n",
    "\n",
    "for i in range(1, 5+1):\n",
    "    pref[i] = []\n",
    "\n",
    "for i in map_:\n",
    "    count = 0\n",
    "    for j in map_[i]:\n",
    "        if j!=0:\n",
    "            count+=1\n",
    "            pref[i].append(j)\n",
    "        map_len[i] = count\n",
    "\n",
    "xval = []\n",
    "yval = []\n",
    "\n",
    "x = 0\n",
    "y = 0\n",
    "\n",
    "xval.append(x)\n",
    "yval.append(y)\n",
    "\n",
    "for i in map_len:\n",
    "    for j in pref[i]:\n",
    "        y+=0.5\n",
    "        plt.text(x+0.5,y,j)\n",
    "        y+=0.5\n",
    "        yval.append(y)\n",
    "        xval.append(x)\n",
    "    x+=1\n",
    "    yval.append(y)\n",
    "    xval.append(x)\n",
    "    \n",
    "xends = [0,5]\n",
    "yends = [0,5]\n",
    "    \n",
    "plt.plot(xval,yval)\n",
    "plt.plot(xends,yends,linestyle='dashed')\n",
    "plt.grid()\n",
    "plt.show()"
   ]
  },
  {
   "cell_type": "code",
   "execution_count": 81,
   "id": "5392dab6",
   "metadata": {},
   "outputs": [],
   "source": [
    "def dyckPath(pf):\n",
    "    \n",
    "    #pf_copy = pf.copy()\n",
    "    spots = []\n",
    "    input_ = [3,3,1,2,4]\n",
    "    \n",
    "    data = {}\n",
    "    \n",
    "    length = len(input_)\n",
    "    \n",
    "    for i in range(1, length+1):\n",
    "        data[i] = []\n",
    "    \n",
    "    for j in input_:\n",
    "        for k in range(0, length):\n",
    "            if j == input_[k]:\n",
    "                if k+1 not in data[j]:\n",
    "                    data[j].append(k+1)\n",
    "                    for n in data:\n",
    "                        if n!=j:\n",
    "                            data[n].append(0)\n",
    "        \n",
    "    #print(data)\n",
    "    \n",
    "    df = pd.DataFrame(data, index = [1,2,3,4,5])\n",
    "    \n",
    "    return df, data"
   ]
  }
 ],
 "metadata": {
  "kernelspec": {
   "display_name": "Python 3 (ipykernel)",
   "language": "python",
   "name": "python3"
  },
  "language_info": {
   "codemirror_mode": {
    "name": "ipython",
    "version": 3
   },
   "file_extension": ".py",
   "mimetype": "text/x-python",
   "name": "python",
   "nbconvert_exporter": "python",
   "pygments_lexer": "ipython3",
   "version": "3.9.7"
  }
 },
 "nbformat": 4,
 "nbformat_minor": 5
}
