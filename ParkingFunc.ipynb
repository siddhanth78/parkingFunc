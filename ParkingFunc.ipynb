{
 "cells": [
  {
   "cell_type": "code",
   "execution_count": 219,
   "id": "f8da092b",
   "metadata": {},
   "outputs": [],
   "source": [
    "from pprint import pprint"
   ]
  },
  {
   "cell_type": "code",
   "execution_count": 163,
   "id": "f7107641",
   "metadata": {
    "scrolled": false
   },
   "outputs": [
    {
     "name": "stdout",
     "output_type": "stream",
     "text": [
      "{'isPF': True, 'input': [4, 2, 2, 8, 6, 1, 1, 5], 'outcome': [4, 2, 3, 8, 6, 1, 5, 7], 'length': 8, 'spec': [2, 2, 0, 1, 1, 1, 0, 1], 'specDetail': {1: 2, 2: 2, 3: 0, 4: 1, 5: 1, 6: 1, 7: 0, 8: 1}, 'nonDecArr': [1, 1, 2, 2, 4, 5, 6, 8], 'orderPerm': [5, 3, 4, 8, 7, 1, 2, 6], 'orderPermInv': [6, 7, 2, 3, 1, 8, 5, 4], 'outcomeInv': [6, 2, 3, 1, 7, 5, 8, 4], 'error': None}\n"
     ]
    }
   ],
   "source": [
    "li = [4,2,2,8,6,1,1,5]\n",
    "pf = parkingFunc(li)\n",
    "print(pf)"
   ]
  },
  {
   "cell_type": "code",
   "execution_count": 249,
   "id": "4d3e5f2e",
   "metadata": {},
   "outputs": [
    {
     "name": "stdout",
     "output_type": "stream",
     "text": [
      "[{7: [6, {3: 2}, 1, 2, 6, {3: 2}, 1, 6, {3: 2}, 1, {7: 1}, 5, {7: 1}, 5]},\n",
      " {7: [6, {3: 2}, 1, 2, 6, {3: 2}, 1, 6, {3: 2}, 1, {7: 1}, 5, {7: 1}, 5]},\n",
      " {7: [6, {3: 2}, 1, 2, 6, {3: 2}, 1, 6, {3: 2}, 1, {7: 1}, 5, {7: 1}, 5]},\n",
      " {3: [6, {3: 2}, 1, 2, 6, {3: 2}, 1, 6, {3: 2}, 1, {7: 1}, 5, {7: 1}, 5]},\n",
      " {7: [6, {3: 2}, 1, 2, 6, {3: 2}, 1, 6, {3: 2}, 1, {7: 1}, 5, {7: 1}, 5]},\n",
      " {7: [6, {3: 2}, 1, 2, 6, {3: 2}, 1, 6, {3: 2}, 1, {7: 1}, 5, {7: 1}, 5]},\n",
      " {7: [6, {3: 2}, 1, 2, 6, {3: 2}, 1, 6, {3: 2}, 1, {7: 1}, 5, {7: 1}, 5]},\n",
      " {7: [6, {3: 2}, 1, 2, 6, {3: 2}, 1, 6, {3: 2}, 1, {7: 1}, 5, {7: 1}, 5]},\n",
      " {7: [6, {3: 2}, 1, 2, 6, {3: 2}, 1, 6, {3: 2}, 1, {7: 1}, 5, {7: 1}, 5]},\n",
      " {7: [6, {3: 2}, 1, 2, 6, {3: 2}, 1, 6, {3: 2}, 1, {7: 1}, 5, {7: 1}, 5]},\n",
      " {8: [6, {3: 2}, 1, 2, 6, {3: 2}, 1, 6, {3: 2}, 1, {7: 1}, 5, {7: 1}, 5]},\n",
      " {8: [6, {3: 2}, 1, 2, 6, {3: 2}, 1, 6, {3: 2}, 1, {7: 1}, 5, {7: 1}, 5]},\n",
      " {8: [6, {3: 2}, 1, 2, 6, {3: 2}, 1, 6, {3: 2}, 1, {7: 1}, 5, {7: 1}, 5]},\n",
      " {8: [6, {3: 2}, 1, 2, 6, {3: 2}, 1, 6, {3: 2}, 1, {7: 1}, 5, {7: 1}, 5]}]\n"
     ]
    }
   ],
   "source": [
    "pprint(auxiliaryTree(pf))"
   ]
  },
  {
   "cell_type": "code",
   "execution_count": 248,
   "id": "e772c75f",
   "metadata": {},
   "outputs": [],
   "source": [
    "def auxiliaryTree(pf):\n",
    "    pf_copy = pf.copy()\n",
    "    \n",
    "    outcomeInv = [6,2,3,1,7,5,8,4]\n",
    "    \n",
    "    branches = []\n",
    "    prevbranch = {}\n",
    "                \n",
    "    n=0\n",
    "    for i in outcomeInv:\n",
    "        for j in range(n,len(outcomeInv)):\n",
    "            if i == outcomeInv[j] and i == max(outcomeInv):\n",
    "                n+=1\n",
    "                break\n",
    "            elif i == outcomeInv[j]:\n",
    "                continue\n",
    "            elif i<outcomeInv[j]:\n",
    "                newbranch = {outcomeInv[j]:i}\n",
    "                if(n>0):\n",
    "                    for k in prevbranch:\n",
    "                        if k == newbranch[outcomeInv[j]]:\n",
    "                            newbranch[outcomeInv[j]] = prevbranch\n",
    "                prevbranch = newbranch.copy()\n",
    "                branches.append(prevbranch)\n",
    "                n+=1\n",
    "                break\n",
    "            elif i>outcomeInv[j]:\n",
    "                continue\n",
    "                \n",
    "    children = []\n",
    "    \n",
    "    combined_branches = []\n",
    "    \n",
    "    newtree = {}\n",
    "                \n",
    "    for i in branches:\n",
    "        for j in branches:\n",
    "            icheck = list(i.keys())[0]\n",
    "            jcheck = list(j.keys())[0]\n",
    "            if icheck == jcheck:\n",
    "                children.append(j[jcheck])\n",
    "                newtree[icheck] = children\n",
    "                combined_branches.append(newtree)\n",
    "                newtree = {}\n",
    "                \n",
    "    return combined_branches"
   ]
  },
  {
   "cell_type": "markdown",
   "id": "1f727d7c",
   "metadata": {},
   "source": [
    "## Non-decreasing arrangement and Specification"
   ]
  },
  {
   "cell_type": "code",
   "execution_count": 6,
   "id": "7e4ddf85",
   "metadata": {},
   "outputs": [],
   "source": [
    "def parkingFunc(func=li, tolerance=0):\n",
    "    \n",
    "    li_copy = li.copy()\n",
    "    length = len(li_copy)\n",
    "    \n",
    "    #Non-decreasing arrangement-------------\n",
    "    \n",
    "    li_copy.sort()\n",
    "    \n",
    "    #---------------------------------------\n",
    "    \n",
    "    num_cars_dict = dict()\n",
    "    \n",
    "    flag = 1\n",
    "    \n",
    "    pfData = {'isPF':False,\n",
    "             'input':li,\n",
    "              'outcome':None,\n",
    "              'length':length,\n",
    "             'spec':None,\n",
    "             'specDetail':None,\n",
    "             'nonDecArr':li_copy,\n",
    "             'orderPerm':None,\n",
    "             'orderPermInv':None,\n",
    "              'outcomeInv':None,\n",
    "             'error':None}\n",
    "    \n",
    "    max_tolerance = length+min(li_copy)-1\n",
    "    \n",
    "    if tolerance>max_tolerance:\n",
    "        pfData['error'] = \"Tolerance can't be greater than maximum available spot.\"\n",
    "        return pfData\n",
    "\n",
    "    \n",
    "    for n in li_copy:\n",
    "        if tolerance==0:\n",
    "            if n>length:\n",
    "                pfData['error'] = \"Preference can't be greater than length.\"\n",
    "                return pfData\n",
    "        elif n>tolerance:\n",
    "            pfData['error'] = \"Preference can't be greater than tolerance.\"\n",
    "            return pfData\n",
    "        elif n<1:\n",
    "            pfData['error'] = \"Preference can't be zero or lesser.\"\n",
    "            return pfData\n",
    "    \n",
    "    #Specification----------------------------\n",
    "    \n",
    "    min_val = min(li_copy)\n",
    "    \n",
    "    for i in range(min_val, length+min_val):\n",
    "        num_cars_dict[i] = li_copy.count(i)\n",
    "        \n",
    "    #-----------------------------------------\n",
    "    \n",
    "    num_cars_dict_copy = num_cars_dict.copy()\n",
    "    \n",
    "    diff = 0\n",
    "    \n",
    "    for i in num_cars_dict_copy:\n",
    "        num_cars_dict_copy[i] = num_cars_dict_copy[i] + diff\n",
    "        if num_cars_dict_copy[i] >= 1:\n",
    "            diff = num_cars_dict_copy[i]-1\n",
    "            num_cars_dict_copy[i] = 1\n",
    "            \n",
    "    if diff == 0:\n",
    "        flag = 1\n",
    "    else:\n",
    "        flag = 0\n",
    "        \n",
    "    outcome = []\n",
    "        \n",
    "    if flag == 1:\n",
    "        for i in li:\n",
    "            n=0\n",
    "            while n==0:\n",
    "                if i in outcome:\n",
    "                    i+=1\n",
    "                else:\n",
    "                    outcome.append(i)\n",
    "                    n=1\n",
    "        pfData['outcome'] = outcome\n",
    "        pfData['outcomeInv'] = getInverseOP(outcome)\n",
    "    else:\n",
    "        pass\n",
    "            \n",
    "    if flag == 1:\n",
    "        orderperm = getOrderPerm(li_copy, li)\n",
    "        inverseop = getInverseOP(orderperm)\n",
    "        pfData['isPF'] = True\n",
    "        pfData['spec'] = list(num_cars_dict.values())\n",
    "        pfData['specDetail'] = num_cars_dict\n",
    "        pfData['orderPerm'] = orderperm\n",
    "        pfData['orderPermInv'] = inverseop\n",
    "        return pfData\n",
    "    else:\n",
    "        pfData['error'] = \"Invalid input.\"\n",
    "        return pfData"
   ]
  },
  {
   "cell_type": "markdown",
   "id": "26951e1d",
   "metadata": {},
   "source": [
    "## Order Permutation"
   ]
  },
  {
   "cell_type": "code",
   "execution_count": 2,
   "id": "af6f53f1",
   "metadata": {},
   "outputs": [],
   "source": [
    "def getOrderPerm(li_copy, li):\n",
    "    \n",
    "    li_ = li.copy()\n",
    "    li_copy_copy = li_copy.copy()\n",
    "    \n",
    "    length = len(li_copy_copy)\n",
    "    \n",
    "    orderperm = []\n",
    "    \n",
    "    map_ = dict()\n",
    "    \n",
    "    for i in range(0, length):\n",
    "        map_[i+1] = li_copy_copy[i]\n",
    "        \n",
    "    for j in range(0, length):\n",
    "        val = checkmap(map_, li_[j])\n",
    "        orderperm.append(val)\n",
    "                \n",
    "    return orderperm"
   ]
  },
  {
   "cell_type": "code",
   "execution_count": 3,
   "id": "1240b368",
   "metadata": {},
   "outputs": [],
   "source": [
    "def checkmap(map_, val):\n",
    "    for i in map_:\n",
    "        if map_[i] == val:\n",
    "            map_[i] = 0\n",
    "            return i"
   ]
  },
  {
   "cell_type": "markdown",
   "id": "e2b136b9",
   "metadata": {},
   "source": [
    "## Inverse Order permutation"
   ]
  },
  {
   "cell_type": "code",
   "execution_count": 4,
   "id": "cc18d9f7",
   "metadata": {},
   "outputs": [],
   "source": [
    "def getInverseOP(orderperm):\n",
    "    \n",
    "    orderperm_copy = orderperm.copy()\n",
    "    length = len(orderperm_copy)\n",
    "    \n",
    "    reference = []\n",
    "    \n",
    "    inverseOP = []\n",
    "    \n",
    "    for i in range(0, length):\n",
    "        reference.append(i+1)\n",
    "    \n",
    "    try:\n",
    "        for j in reference:\n",
    "            truepos = orderperm_copy.index(j)\n",
    "            pos = truepos+1\n",
    "            inverseOP.append(pos)\n",
    "    except:\n",
    "        return None\n",
    "    else:\n",
    "        return inverseOP"
   ]
  }
 ],
 "metadata": {
  "kernelspec": {
   "display_name": "Python 3 (ipykernel)",
   "language": "python",
   "name": "python3"
  },
  "language_info": {
   "codemirror_mode": {
    "name": "ipython",
    "version": 3
   },
   "file_extension": ".py",
   "mimetype": "text/x-python",
   "name": "python",
   "nbconvert_exporter": "python",
   "pygments_lexer": "ipython3",
   "version": "3.9.7"
  }
 },
 "nbformat": 4,
 "nbformat_minor": 5
}
